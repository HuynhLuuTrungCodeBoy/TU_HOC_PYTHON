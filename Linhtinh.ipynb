{
 "cells": [
  {
   "cell_type": "markdown",
   "id": "160d804a-111a-4e24-bd88-23b4abb31bfb",
   "metadata": {},
   "source": [
    "# Số Armstrong:\n",
    "Số Armstrong, còn được gọi là số narcissistic hoặc số pluperfect.\n",
    "Số Armstrong là một số mà tổng các lũy thừa của các chữ số của nó bằng chính số đó.\n",
    "Để xác định một số có phải là số Armstrong hay không, bạn làm như sau:\n",
    "\n",
    "1. Lấy từng chữ số của số đó.\n",
    "2. Nâng mỗi chữ số lên lũy thừa bậc n, trong đó n là số chữ số của số đó.\n",
    "3. Tính tổng các lũy thừa này.\n",
    "4. Nếu tổng này bằng chính số đó, thì đó là số Armstrong.\n",
    "\n"
   ]
  },
  {
   "cell_type": "code",
   "execution_count": 10,
   "id": "e49fb83b-9c9f-4bbc-af2e-5cc0c88254b6",
   "metadata": {},
   "outputs": [
    {
     "name": "stdout",
     "output_type": "stream",
     "text": [
      "True\n",
      "True\n"
     ]
    }
   ],
   "source": [
    "def is_armstrong_number(number):\n",
    "    digits=[]\n",
    "    for i in str(number):\n",
    "        digits+=[int(i)]\n",
    "    #print(digits)\n",
    "    power=len(digits); #print(power)\n",
    "    total=0\n",
    "    for i in digits:\n",
    "        total+=i**power\n",
    "    return total==number\n",
    "#main\n",
    "print(is_armstrong_number(153))\n",
    "print(is_armstrong_number(9474))"
   ]
  },
  {
   "cell_type": "code",
   "execution_count": 11,
   "id": "539539ab-c0f8-4cd9-818f-42d762c24689",
   "metadata": {},
   "outputs": [
    {
     "name": "stdout",
     "output_type": "stream",
     "text": [
      "True\n",
      "True\n",
      "False\n"
     ]
    }
   ],
   "source": [
    "import numpy as np\n",
    "\n",
    "def is_armstrong_number(number):\n",
    "    # Chuyển số thành chuỗi rồi chuyển từng chữ số thành mảng số nguyên\n",
    "    digits = np.array([int(digit) for digit in str(number)])\n",
    "    \n",
    "    # Tính số lượng chữ số (bậc lũy thừa)\n",
    "    power = len(digits)\n",
    "    \n",
    "    # Tính lũy thừa của từng chữ số\n",
    "    powered_digits = np.power(digits, power)\n",
    "    \n",
    "    # Tính tổng các lũy thừa\n",
    "    total = np.sum(powered_digits)\n",
    "    \n",
    "    # So sánh tổng với số ban đầu\n",
    "    return total == number\n",
    "\n",
    "# Kiểm tra một số ví dụ\n",
    "print(is_armstrong_number(153))  # True\n",
    "print(is_armstrong_number(9474)) # True\n",
    "print(is_armstrong_number(123))  # False\n"
   ]
  },
  {
   "cell_type": "markdown",
   "id": "553547e4-6db7-46f5-b9d3-4f3508e857b8",
   "metadata": {},
   "source": [
    "# Viết chương trình Python để tạo một máy tính đơn giản với 4 phép toán cơ bản.\n",
    "# Write a Python Program to Make a Simple Calculator with 4 basic mathematical operations.\n"
   ]
  },
  {
   "cell_type": "code",
   "execution_count": 17,
   "id": "ce4c414e-5132-433e-9d52-ccea0a270e49",
   "metadata": {},
   "outputs": [
    {
     "name": "stdout",
     "output_type": "stream",
     "text": [
      "Select an operation:\n",
      "1. Add\n",
      "2. Subtract\n",
      "3. Multiply\n",
      "4. Divide\n"
     ]
    },
    {
     "name": "stdin",
     "output_type": "stream",
     "text": [
      "Enter choice 1,2,3,4: 4\n",
      "Enter first number: 5\n",
      "Enter second number: 0\n"
     ]
    },
    {
     "name": "stdout",
     "output_type": "stream",
     "text": [
      "Error!Division by zero.\n"
     ]
    }
   ],
   "source": [
    "def add(a,b):\n",
    "    return f\"{a} + {b} = {a+b}\"\n",
    "def subtract(a,b):\n",
    "    return f\"{a} - {b} = {a-b}\"\n",
    "def multiply(a,b):\n",
    "    return f\"{a} x {b} = {a*b}\"\n",
    "def divide(a,b):\n",
    "    if b==0:\n",
    "        return \"Error!Division by zero.\"\n",
    "    else:\n",
    "        return f\"{a} : {b} = {a/b}\"\n",
    "        \n",
    "def calculator():\n",
    "    print(\"Select an operation:\")\n",
    "    print(\"1. Add\")\n",
    "    print(\"2. Subtract\")\n",
    "    print(\"3. Multiply\")\n",
    "    print(\"4. Divide\")\n",
    "    choice=int(input(\"Enter choice 1,2,3,4:\"))\n",
    "    \n",
    "    if choice >=1 and choice <=4:\n",
    "        num1=float(input(\"Enter first number:\"))\n",
    "        num2=float(input(\"Enter second number:\"))\n",
    "        if choice==1:\n",
    "            print(add(num1,num2))\n",
    "        if choice==2:\n",
    "            print(subtract(num1,num2))\n",
    "        if choice==3:\n",
    "            print(multiply(num1,num2))\n",
    "        if choice==4:\n",
    "            print(divide(num1,num2))\n",
    "    else:\n",
    "        print(\"Invalid input\")\n",
    "#main\n",
    "calculator()"
   ]
  }
 ],
 "metadata": {
  "kernelspec": {
   "display_name": "Python 3 (ipykernel)",
   "language": "python",
   "name": "python3"
  },
  "language_info": {
   "codemirror_mode": {
    "name": "ipython",
    "version": 3
   },
   "file_extension": ".py",
   "mimetype": "text/x-python",
   "name": "python",
   "nbconvert_exporter": "python",
   "pygments_lexer": "ipython3",
   "version": "3.11.3"
  }
 },
 "nbformat": 4,
 "nbformat_minor": 5
}
