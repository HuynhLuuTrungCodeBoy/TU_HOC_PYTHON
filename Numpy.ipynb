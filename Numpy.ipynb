{
 "cells": [
  {
   "cell_type": "markdown",
   "id": "3b54567f-8cc1-478c-8c0f-a2aff829832e",
   "metadata": {},
   "source": [
    "# Numpy làm được gì:\n",
    "1. <b>Xử lý mảng và ma trận.</b>  \n",
    ">+ Tạo và thao tác với mảng 1 chiều, nhiều chiều.  \n",
    ">+ Toán tử ma trận.  \n",
    "2. <b>Tính toán khoa học kỹ thuật.</b>  \n",
    ">+ Cung cấp nhiều hàm toán học.  \n",
    ">+ <span style=\"color:red\">Thống kê và xác suất.</span>  \n",
    "3. <span style=\"color:red\"><b>Phân tích dữ liệu.</b></span>  \n",
    ">+ Xử lý dữ liệu lớn.  \n",
    ">+ Chuyển đổi dữ liệu: từ danh sách Python, từ CSV, và ngược lại.  \n",
    "4. <b>Hỗ trợ thư viện khác.</b>  \n",
    ">+ Học máy và trí  tuệ nhân tạo  \n",
    ">+ Xử lý hình ảnh.  \n",
    "5. <b>HIệu suất và tối ưu.</b>  \n",
    ">+ Tính toán hiệu quả: NumPy được viết bằng C nên nó nhanh và hiệu quả.  \n",
    ">+ Broadcasting: cho phép thực hiện các phép toán trên mảng có kích thước khác nhau.  \n",
    "6. <b>Tích hợp các ngôn ngữ khác.</b>  \n",
    ">+ NumPy có thể tương tác với C và Fortran.\n"
   ]
  },
  {
   "cell_type": "markdown",
   "id": "48634408-2293-4e68-8909-b3db6375f3f9",
   "metadata": {},
   "source": [
    "# Xử lý dữ liệu lớn:"
   ]
  },
  {
   "cell_type": "markdown",
   "id": "4282eac6-be05-41f9-a5f3-f4450584ac5c",
   "metadata": {},
   "source": [
    "### Tạo và thao tác với mảng lớn:\n",
    "có thể lên đến hàng triệu thâm chí hàng tỉ phần tử một cách hiệu quả.  \n",
    "Ví dụ tạo mảng:"
   ]
  }
 ],
 "metadata": {
  "kernelspec": {
   "display_name": "Python 3 (ipykernel)",
   "language": "python",
   "name": "python3"
  },
  "language_info": {
   "codemirror_mode": {
    "name": "ipython",
    "version": 3
   },
   "file_extension": ".py",
   "mimetype": "text/x-python",
   "name": "python",
   "nbconvert_exporter": "python",
   "pygments_lexer": "ipython3",
   "version": "3.11.3"
  }
 },
 "nbformat": 4,
 "nbformat_minor": 5
}
